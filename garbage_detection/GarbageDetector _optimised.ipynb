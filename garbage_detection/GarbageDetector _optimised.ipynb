{
 "cells": [
  {
   "cell_type": "code",
   "execution_count": 1,
   "id": "074beb41-3e9c-4368-b11b-621decf17ac1",
   "metadata": {},
   "outputs": [],
   "source": [
    "import cv2\n",
    "from ultralytics import YOLO\n"
   ]
  },
  {
   "cell_type": "code",
   "execution_count": 2,
   "id": "a7947cef-957f-467a-a880-de7d4e1914d6",
   "metadata": {},
   "outputs": [],
   "source": [
    "class GarbageDetector:\n",
    "    def __init__(self,model_path,camera):\n",
    "        self.model=YOLO(model_path)\n",
    "        self.camera=camera\n",
    "        self.thres_box_frame_ratio=0.6\n",
    "        self.results=[]\n",
    "        self.frame_size=1\n",
    "\n",
    "    def remove_large(self):\n",
    "        keep_boxes = []\n",
    "\n",
    "        for i, box in enumerate(self.results[0].boxes):\n",
    "            box_size=self.get_box_size(box)\n",
    "\n",
    "            box_frame_ratio=box_size/self.frame_size\n",
    "            \n",
    "            if (box_frame_ratio<=self.thres_box_frame_ratio):\n",
    "                keep_boxes.append(i)\n",
    "\n",
    "        if keep_boxes:\n",
    "            self.results[0].boxes = self.results[0].boxes[keep_boxes] \n",
    "        else:\n",
    "            self.results[0].boxes = None\n",
    "\n",
    "    def display_box_details(self):\n",
    "        if self.results[0].boxes is not None:\n",
    "            for box in self.results[0].boxes:\n",
    "                x1, y1, x2, y2 = box.xyxy[0]\n",
    "                cls_id = int(box.cls[0])\n",
    "                confidence = box.conf[0]\n",
    "                class_name = self.results[0].names[cls_id]\n",
    "                print(f\"Class: {class_name}, Confidence: {confidence:.2f}, Box: [{x1}, {y1}, {x2}, {y2}]\")\n",
    "\n",
    "    def get_box_size(self,box):\n",
    "        x1, y1, x2, y2 = box.xyxy[0]\n",
    "        box_width=(x1-x2)\n",
    "        box_height=(y1-y2)\n",
    "        box_size=(box_width**2+box_height**2)**0.5\n",
    "        return box_size\n",
    "\n",
    "    def get_closest_object_info(self):\n",
    "        if self.results[0].boxes is not None:\n",
    "            closest_object=self.results[0].boxes[0]\n",
    "            for box in self.results[0].boxes:\n",
    "                if self.get_box_size(box)>self.get_box_size(closest_object):\n",
    "                    closest_object=box\n",
    "        box_info={}\n",
    "        cls_id = int(closest_object.cls[0])\n",
    "        class_name = self.results[0].names[cls_id]\n",
    "        box_info['Class']=class_name\n",
    "        x1,y1,x2,y2=closest_object.xyxy[0]\n",
    "        box_info['Coordinates']=(float(x1),float(y1),float(x2),float(y2))\n",
    "        \n",
    "        if (class_name==\"METAL\" or class_name==\"GLASS\" or class_name==\"PLASTIC\"):\n",
    "            box_info['isBiodegradable']=False\n",
    "        else:\n",
    "            box_info['isBiodegradable']=True\n",
    "\n",
    "        return box_info\n",
    "    \n",
    "    def detect(self,ahead,thres_box_frame_ratio=0.6):\n",
    "        self.thres_box_frame_ratio=thres_box_frame_ratio\n",
    "        \n",
    "        cap=cv2.VideoCapture(self.camera)\n",
    "\n",
    "        frame_width = int(cap.get(cv2.CAP_PROP_FRAME_WIDTH))\n",
    "        frame_height = int(cap.get(cv2.CAP_PROP_FRAME_HEIGHT))\n",
    "\n",
    "        self.frame_size=(frame_width**2+frame_height**2)**0.5\n",
    "        \n",
    "        if not cap.isOpened():\n",
    "            print(\"Error: Could not open camera.\")\n",
    "            exit()\n",
    "        found=False\n",
    "        while (not found):\n",
    "            ret,frame=cap.read()\n",
    "            if not ret:\n",
    "                print(\"Error: Could not receive frame.\")\n",
    "                break\n",
    "            self.results=self.model(frame,imgsz=512,save=False,plots=False,device='cpu',verbose=False)\n",
    "\n",
    "            if ahead:\n",
    "                self.remove_large()\n",
    "\n",
    "            #self.display_box_details()\n",
    "            \n",
    "            annotated_frame= self.results[0].plot()\n",
    "            cv2.imshow(\"Garbage Detection\",annotated_frame)\n",
    "\n",
    "            if cv2.waitKey(1) & 0xFF == ord('q'):\n",
    "                break\n",
    "\n",
    "            if self.results[0].boxes is not None:\n",
    "                found=True\n",
    "\n",
    "        cap.release()\n",
    "        cv2.destroyAllWindows()\n",
    "\n",
    "        return self.get_closest_object_info()\n",
    "\n",
    "    def pause(self):\n",
    "        signal=False #get signal from arduino\n",
    "        while True:\n",
    "            if (signal):\n",
    "                break\n",
    "                \n",
    "    def run(self):\n",
    "        while True:\n",
    "            try:\n",
    "                box_info = self.detect(ahead=True)\n",
    "                print(box_info)\n",
    "                #send box_info to Arduino, move towards object\n",
    "                #looking for signal\n",
    "                #self.pause()\n",
    "                box_info = self.detect(ahead=False)\n",
    "                print(box_info)\n",
    "                #self.pause() #collect object\n",
    "            except:\n",
    "                break\n",
    "        \n",
    "\n"
   ]
  },
  {
   "cell_type": "code",
   "execution_count": 3,
   "id": "56411d8b-ec65-4685-a72f-ee0bcca91305",
   "metadata": {},
   "outputs": [],
   "source": [
    "detector=GarbageDetector(\"runs/detect/final_train/weights/best_openvino_model\",0)"
   ]
  },
  {
   "cell_type": "code",
   "execution_count": 4,
   "id": "86e1372c-b6de-4510-beb5-48d73fe2006c",
   "metadata": {},
   "outputs": [
    {
     "name": "stdout",
     "output_type": "stream",
     "text": [
      "Loading runs/detect/final_train/weights/best_openvino_model for OpenVINO inference...\n"
     ]
    },
    {
     "name": "stderr",
     "output_type": "stream",
     "text": [
      "/home/gobi/anaconda3/envs/yolo_model/lib/python3.12/site-packages/torch/cuda/__init__.py:128: UserWarning: CUDA initialization: CUDA unknown error - this may be due to an incorrectly set up environment, e.g. changing env variable CUDA_VISIBLE_DEVICES after program start. Setting the available devices to be zero. (Triggered internally at ../c10/cuda/CUDAFunctions.cpp:108.)\n",
      "  return torch._C._cuda_getDeviceCount() > 0\n"
     ]
    },
    {
     "name": "stdout",
     "output_type": "stream",
     "text": [
      "Using OpenVINO LATENCY mode for batch=1 inference...\n",
      "{'Class': 'PAPER', 'Coordinates': (0.12895584106445312, 282.0968322753906, 204.17703247070312, 477.66644287109375), 'isBiodegradable': True}\n",
      "{'Class': 'PAPER', 'Coordinates': (0.0, 0.5723953247070312, 636.1549072265625, 472.0500183105469), 'isBiodegradable': True}\n",
      "{'Class': 'BIODEGRADABLE', 'Coordinates': (0.02853870391845703, 338.02862548828125, 67.61062622070312, 477.8067626953125), 'isBiodegradable': True}\n",
      "{'Class': 'PAPER', 'Coordinates': (0.161285400390625, 0.17032623291015625, 639.6273193359375, 478.0530090332031), 'isBiodegradable': True}\n",
      "{'Class': 'PAPER', 'Coordinates': (0.0, 260.8839416503906, 173.31849670410156, 475.1863098144531), 'isBiodegradable': True}\n",
      "{'Class': 'PAPER', 'Coordinates': (0.0, 0.9215736389160156, 640.0, 479.6867980957031), 'isBiodegradable': True}\n"
     ]
    }
   ],
   "source": [
    "detector.run()"
   ]
  }
 ],
 "metadata": {
  "kernelspec": {
   "display_name": "Python 3 (ipykernel)",
   "language": "python",
   "name": "python3"
  },
  "language_info": {
   "codemirror_mode": {
    "name": "ipython",
    "version": 3
   },
   "file_extension": ".py",
   "mimetype": "text/x-python",
   "name": "python",
   "nbconvert_exporter": "python",
   "pygments_lexer": "ipython3",
   "version": "3.12.5"
  }
 },
 "nbformat": 4,
 "nbformat_minor": 5
}
