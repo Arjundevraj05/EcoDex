{
 "cells": [
  {
   "cell_type": "code",
   "execution_count": 1,
   "id": "77e39b13-a82c-4a82-b518-04bdd9790a25",
   "metadata": {},
   "outputs": [],
   "source": [
    "import os\n",
    "import glob"
   ]
  },
  {
   "cell_type": "code",
   "execution_count": 4,
   "id": "c877cd51-8f9a-41ce-8c69-0e0c084ede74",
   "metadata": {},
   "outputs": [
    {
     "name": "stdout",
     "output_type": "stream",
     "text": [
      "/home/gobi/intel_hackathon\n"
     ]
    }
   ],
   "source": [
    "%cd {home}"
   ]
  },
  {
   "cell_type": "code",
   "execution_count": 1,
   "id": "9db9c4ef-421b-43db-8c16-542287907a64",
   "metadata": {},
   "outputs": [
    {
     "name": "stdout",
     "output_type": "stream",
     "text": [
      "YAML file created successfully!\n"
     ]
    }
   ],
   "source": [
    "#creating a combined yaml file in YOLOv8 format\n",
    "import yaml\n",
    "data = {\n",
    "    'names': ['BIODEGRADABLE', 'CARDBOARD', 'GLASS', 'METAL', 'PAPER', 'PLASTIC'],\n",
    "    'nc': 6,\n",
    "    'test': ['datasets/GARBAGE-CLASSIFICATION-3-1/test','datasets/Trash-Detection-1/test/images','datasets/TrashClass-2/test/images'],\n",
    "    'train': ['datasets/GARBAGE-CLASSIFICATION-3-1/train/images','datasets/Trash-Detection-1/train/images','datasets/TrashClass-2/train/images'],\n",
    "    'val': ['datasets/GARBAGE-CLASSIFICATION-3-1/valid/images','datasets/Trash-Detection-1/valid/images','datasets/TrashClass-2/train/images']\n",
    "}\n",
    "\n",
    "with open('data_combined.yaml', 'w') as file:\n",
    "    yaml.dump(data, file, default_flow_style=False)\n",
    "\n",
    "print(\"YAML file created successfully!\")\n"
   ]
  },
  {
   "cell_type": "code",
   "execution_count": null,
   "id": "959cc1a4-f47c-42a1-8783-4221b13b63e0",
   "metadata": {},
   "outputs": [],
   "source": []
  }
 ],
 "metadata": {
  "kernelspec": {
   "display_name": "Python 3 (ipykernel)",
   "language": "python",
   "name": "python3"
  },
  "language_info": {
   "codemirror_mode": {
    "name": "ipython",
    "version": 3
   },
   "file_extension": ".py",
   "mimetype": "text/x-python",
   "name": "python",
   "nbconvert_exporter": "python",
   "pygments_lexer": "ipython3",
   "version": "3.12.5"
  }
 },
 "nbformat": 4,
 "nbformat_minor": 5
}
